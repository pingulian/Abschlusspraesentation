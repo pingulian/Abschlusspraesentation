{
 "cells": [
  {
   "cell_type": "code",
   "execution_count": 43,
   "id": "8b8edfc7-f254-4df2-8a3f-7e7d80a9e1de",
   "metadata": {},
   "outputs": [
    {
     "name": "stdout",
     "output_type": "stream",
     "text": [
      "Durchschnitt von P*V: 31.575657894736842\n",
      "Maximaler Wert: 40.0\n",
      "Minimaler Wert: 28.125\n",
      "\n",
      "Maximale Abweichung vom Durchschnitt (Absolute Zahl): 8.424342105263158\n",
      "Maximale Abweichung vom Durchscnitt (%): 26.67986248567559 %\n",
      "Maximal zugelassene Abweichung: 30 %\n",
      "\n",
      "Ergebnis:\n",
      "P * V = konstant\n",
      "(Die Abweichung vom Durchschnitt überschreitet die maximal zugelassene Abweichung nicht)\n"
     ]
    }
   ],
   "source": [
    "import numpy as np\n",
    "\n",
    "# Gegebene Werte als NumPy-Arrays\n",
    "volume = np.array([1.0, 1.5, 2.0, 3.0, 4.0, 5.0, 6.0, 7.0, 8.0, 9.0, 10.0, 12.0, 14.0, 16.0, 18.0, 20.0, 24.0, 28.0, 32.0])\n",
    "pressure = np.array([29.750, 19.125, 14.375, 9.5, 7.125, 5.625, 4.875, 4.250, 3.750, 3.375, 3.0, 2.625, 2.250, 2.0, 1.875, 1.750, 1.5, 1.375, 1.250])\n",
    "\n",
    "# Berechnung von P * V\n",
    "pv = volume * pressure\n",
    "\n",
    "# Berechnung von Durchschnitt, Maximal- und Minimalwert\n",
    "average = np.mean(pv)\n",
    "maxpv = np.max(pv)\n",
    "minpv = np.min(pv)\n",
    "\n",
    "# Maximalen Abweichung vom Durchschnitt\n",
    "abweichungnumb = np.abs([maxpv - average, minpv - average])\n",
    "maxabweichungnumb = np.max(abweichungnumb)\n",
    "\n",
    "#Abweichung in %\n",
    "abweichung = (maxabweichungnumb / average) * 100\n",
    "\n",
    "# Maximal zugelassene Abweichung\n",
    "maxerlabweichung = 30\n",
    "\n",
    "# Ergebnisse ausgeben\n",
    "print(\"Durchschnitt von P*V:\", average)\n",
    "print(\"Maximaler Wert:\", maxpv)\n",
    "print(\"Minimaler Wert:\", minpv)\n",
    "print(\"\\nMaximale Abweichung vom Durchschnitt (Absolute Zahl):\", maxabweichungnumb)\n",
    "print(\"Maximale Abweichung vom Durchschnitt (%):\", abweichung, \"%\")\n",
    "print(\"Maximal zugelassene Abweichung:\", maxerlabweichung, \"%\")\n",
    "print(\"\\nErgebnis:\")\n",
    "\n",
    "# Überprüfung der Abweichung\n",
    "if abweichung < maxerlabweichung:\n",
    "    print(\"P * V = konstant\")\n",
    "    print(\"(Die Abweichung vom Durchschnitt überschreitet die maximal zugelassene Abweichung nicht)\")\n",
    "else:\n",
    "    print(\"P * V ist nicht konstant\")\n",
    "    print(\"(Die Abweichung vom Durchschnitt überschreitet die maximal zugelassene Abweichung)\")\n"
   ]
  },
  {
   "cell_type": "code",
   "execution_count": null,
   "id": "5fd877b8-334f-4929-8284-b0fb4c645b47",
   "metadata": {},
   "outputs": [],
   "source": []
  }
 ],
 "metadata": {
  "kernelspec": {
   "display_name": "Python 3 (ipykernel)",
   "language": "python",
   "name": "python3"
  },
  "language_info": {
   "codemirror_mode": {
    "name": "ipython",
    "version": 3
   },
   "file_extension": ".py",
   "mimetype": "text/x-python",
   "name": "python",
   "nbconvert_exporter": "python",
   "pygments_lexer": "ipython3",
   "version": "3.12.7"
  }
 },
 "nbformat": 4,
 "nbformat_minor": 5
}
